{
 "cells": [
  {
   "cell_type": "code",
   "execution_count": 1,
   "metadata": {},
   "outputs": [],
   "source": [
    "import networkx as nx\n",
    "import dwave_networkx as dnx\n",
    "import random\n",
    "import matplotlib.pyplot as plt\n",
    "import pulp\n",
    "import numpy as np\n",
    "\n",
    "from lpSolver import solve\n",
    "from uccgGenerator import tree_insertion, Graph\n",
    "from plotNetwork import plotGraph, plotCoupling, plotGraphIS\n",
    "from itertools import combinations"
   ]
  },
  {
   "cell_type": "code",
   "execution_count": 5,
   "metadata": {},
   "outputs": [],
   "source": [
    "n, m = 20, 30\n",
    "num_sample = 1"
   ]
  },
  {
   "cell_type": "code",
   "execution_count": 9,
   "metadata": {},
   "outputs": [
    {
     "name": "stdout",
     "output_type": "stream",
     "text": [
      "16 3359232\n",
      "15 995328\n",
      "14 839808\n",
      "16 3359232\n",
      "17 6718464\n",
      "14 497664\n",
      "15 1679616\n",
      "17 11337408\n",
      "16 5668704\n",
      "15 2834352\n"
     ]
    }
   ],
   "source": [
    "for i in range(10):\n",
    "    g = tree_insertion(n, m)\n",
    "    cliques = list(nx.find_cliques(g))\n",
    "    num_cliques = len(cliques)\n",
    "    prod = np.prod([len(c) for c in cliques])\n",
    "    print(num_cliques, prod)"
   ]
  },
  {
   "cell_type": "code",
   "execution_count": null,
   "metadata": {},
   "outputs": [],
   "source": []
  }
 ],
 "metadata": {
  "kernelspec": {
   "display_name": "Python 3",
   "language": "python",
   "name": "python3"
  },
  "language_info": {
   "codemirror_mode": {
    "name": "ipython",
    "version": 3
   },
   "file_extension": ".py",
   "mimetype": "text/x-python",
   "name": "python",
   "nbconvert_exporter": "python",
   "pygments_lexer": "ipython3",
   "version": "3.7.6"
  }
 },
 "nbformat": 4,
 "nbformat_minor": 4
}
