{
 "cells": [
  {
   "cell_type": "code",
   "execution_count": 1,
   "metadata": {},
   "outputs": [],
   "source": [
    "import networkx as nx\n",
    "import dwave_networkx as dnx\n",
    "import random\n",
    "import matplotlib.pyplot as plt\n",
    "import pulp\n",
    "import numpy as np\n",
    "\n",
    "from itertools import permutations\n",
    "from lpSolver import solve\n",
    "from uccgGenerator import tree_insertion, Graph\n",
    "from plotNetwork import plotGraph, plotCoupling, plotGraphIS, plotSymmetricDiff\n",
    "from networkx.algorithms.chordal import chordal_graph_cliques\n",
    "from networkx.algorithms.approximation import treewidth_min_fill_in, maximum_independent_set"
   ]
  },
  {
   "cell_type": "code",
   "execution_count": 2,
   "metadata": {},
   "outputs": [],
   "source": [
    "from itertools import combinations\n",
    "from collections import Counter"
   ]
  },
  {
   "cell_type": "code",
   "execution_count": 6,
   "metadata": {},
   "outputs": [],
   "source": [
    "def is_id(g, vertices):\n",
    "    n = len(vertices)\n",
    "    \n",
    "    for i in range(n):\n",
    "        for j in range(i+1, n):\n",
    "            if (vertices[i], vertices[j]) in g.edges:\n",
    "                return False\n",
    "    return True"
   ]
  },
  {
   "cell_type": "code",
   "execution_count": 7,
   "metadata": {},
   "outputs": [],
   "source": [
    "def is_logconcave(counter):\n",
    "    values = list(counter.values())\n",
    "    n = len(values)\n",
    "    for i in range(1, n-1):\n",
    "        if values[i-1] * values[i+1] > values[i] ** 2:\n",
    "            return False\n",
    "    return True"
   ]
  },
  {
   "cell_type": "code",
   "execution_count": 22,
   "metadata": {},
   "outputs": [],
   "source": [
    "    use = False"
   ]
  },
  {
   "cell_type": "code",
   "execution_count": 23,
   "metadata": {},
   "outputs": [
    {
     "name": "stdout",
     "output_type": "stream",
     "text": [
      "8\n",
      "plotted\n",
      "9\n"
     ]
    },
    {
     "data": {
      "image/png": "[encoded data removed]",
      "text/plain": [
       "<Figure size 432x288 with 1 Axes>"
      ]
     },
     "metadata": {},
     "output_type": "display_data"
    }
   ],
   "source": [
    "for n in range(8, 10):\n",
    "    print(n)\n",
    "    for m in range(n-1, n*(n-1)//2):\n",
    "        for _ in range(1):\n",
    "            g = tree_insertion(n, m)\n",
    "            counter = Counter()\n",
    "            for k in range(1, len(g)+1):\n",
    "                for vertices in combinations(g.nodes, k):\n",
    "                    if is_id(g, vertices):\n",
    "                        counter[k] += 1\n",
    "                        if not use and m >= 2*n and k >= 3:\n",
    "                            cg = Graph(g)\n",
    "                            for u in g:\n",
    "                                cg.nodes[u]['in'] = u in vertices\n",
    "                            plotGraphIS(cg)\n",
    "                            print('plotted')\n",
    "                            use = True\n",
    "            if not is_logconcave(counter):\n",
    "                plotGraph(g)"
   ]
  },
  {
   "cell_type": "code",
   "execution_count": 9,
   "metadata": {},
   "outputs": [
    {
     "name": "stdout",
     "output_type": "stream",
     "text": [
      "wrong\n"
     ]
    }
   ],
   "source": [
    "values = [1,2,5]\n",
    "n = len(values)\n",
    "for i in range(1, n-1):\n",
    "    if values[i-1] * values[i+1] > values[i] ** 2:\n",
    "        print('wrong')"
   ]
  },
  {
   "cell_type": "code",
   "execution_count": null,
   "metadata": {},
   "outputs": [],
   "source": []
  }
 ],
 "metadata": {
  "kernelspec": {
   "display_name": "Python 3",
   "language": "python",
   "name": "python3"
  },
  "language_info": {
   "codemirror_mode": {
    "name": "ipython",
    "version": 3
   },
   "file_extension": ".py",
   "mimetype": "text/x-python",
   "name": "python",
   "nbconvert_exporter": "python",
   "pygments_lexer": "ipython3",
   "version": "3.7.6"
  }
 },
 "nbformat": 4,
 "nbformat_minor": 4
}
