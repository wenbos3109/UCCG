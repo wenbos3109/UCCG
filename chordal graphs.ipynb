{
 "cells": [
  {
   "cell_type": "code",
   "execution_count": 1,
   "metadata": {},
   "outputs": [],
   "source": [
    "import networkx as nx\n",
    "import dwave_networkx as dnx\n",
    "import random\n",
    "import matplotlib.pyplot as plt\n",
    "import pulp\n",
    "import numpy as np\n",
    "\n",
    "from lpSolver import solve\n",
    "from uccgGenerator import tree_insertion, Graph\n",
    "from plotNetwork import plotGraph, plotCoupling, plotGraphIS\n",
    "from itertools import combinations"
   ]
  },
  {
   "cell_type": "code",
   "execution_count": 2,
   "metadata": {},
   "outputs": [],
   "source": [
    "def get_index(child, chordals):\n",
    "    for i in range(len(chordals)):\n",
    "        if chordals[i] == child:\n",
    "            return i"
   ]
  },
  {
   "cell_type": "code",
   "execution_count": 3,
   "metadata": {},
   "outputs": [],
   "source": [
    "def get_children(g):\n",
    "    simplicial_vertices = filter(lambda v: dnx.is_simplicial(g, v), g.nodes)\n",
    "    children = []\n",
    "    total = 0\n",
    "    n = len(g)\n",
    "    for u in simplicial_vertices:\n",
    "        cg = Graph(g)\n",
    "        edges = list(cg.edges(u))\n",
    "        cg.remove_edges_from(edges)\n",
    "        cg.remove_node(u)\n",
    "        cliques = set(cg.nodes).union(set(cg.edges))\n",
    "        m = len(cliques)\n",
    "        for c in cliques:\n",
    "            cg1 = Graph(cg)\n",
    "            if type(c) is int:\n",
    "                cg1.add_edge(u, c)\n",
    "            else:\n",
    "                cg1.add_edges_from([(u, v) for v in c])\n",
    "            if cg1 == g:\n",
    "                continue\n",
    "            cg1.prob = 1./(n*m)\n",
    "            total += cg1.prob\n",
    "            if cg1 in children:\n",
    "                i = get_index(cg1, children)\n",
    "                children[i].prob += cg1.prob\n",
    "            else:\n",
    "                children.append(cg1)\n",
    "    for child in children:\n",
    "        assert child != g\n",
    "    g_self = Graph(g)\n",
    "    g_self.prob = 1 - total\n",
    "    children.append(g_self)\n",
    "    assert sum([c.prob for c in children]) == 1\n",
    "    return children + [g_self]"
   ]
  },
  {
   "cell_type": "code",
   "execution_count": 8,
   "metadata": {},
   "outputs": [
    {
     "ename": "KeyboardInterrupt",
     "evalue": "",
     "output_type": "error",
     "traceback": [
      "\u001b[0;31m---------------------------------------------------------------------------\u001b[0m",
      "\u001b[0;31mKeyboardInterrupt\u001b[0m                         Traceback (most recent call last)",
      "\u001b[0;32m<ipython-input-8-09768a9a7b74>\u001b[0m in \u001b[0;36m<module>\u001b[0;34m\u001b[0m\n\u001b[1;32m      6\u001b[0m         \u001b[0mtmp\u001b[0m \u001b[0;34m=\u001b[0m \u001b[0mnx\u001b[0m\u001b[0;34m.\u001b[0m\u001b[0mGraph\u001b[0m\u001b[0;34m(\u001b[0m\u001b[0;34m)\u001b[0m\u001b[0;34m\u001b[0m\u001b[0;34m\u001b[0m\u001b[0m\n\u001b[1;32m      7\u001b[0m         \u001b[0mtmp\u001b[0m\u001b[0;34m.\u001b[0m\u001b[0madd_edges_from\u001b[0m\u001b[0;34m(\u001b[0m\u001b[0medge_set\u001b[0m\u001b[0;34m)\u001b[0m\u001b[0;34m\u001b[0m\u001b[0;34m\u001b[0m\u001b[0m\n\u001b[0;32m----> 8\u001b[0;31m         \u001b[0;32mif\u001b[0m \u001b[0mnx\u001b[0m\u001b[0;34m.\u001b[0m\u001b[0mis_chordal\u001b[0m\u001b[0;34m(\u001b[0m\u001b[0mtmp\u001b[0m\u001b[0;34m)\u001b[0m \u001b[0;32mand\u001b[0m \u001b[0mnx\u001b[0m\u001b[0;34m.\u001b[0m\u001b[0mis_connected\u001b[0m\u001b[0;34m(\u001b[0m\u001b[0mtmp\u001b[0m\u001b[0;34m)\u001b[0m \u001b[0;32mand\u001b[0m \u001b[0mlen\u001b[0m\u001b[0;34m(\u001b[0m\u001b[0mtmp\u001b[0m\u001b[0;34m)\u001b[0m \u001b[0;34m==\u001b[0m \u001b[0;36m4\u001b[0m\u001b[0;34m:\u001b[0m\u001b[0;34m\u001b[0m\u001b[0;34m\u001b[0m\u001b[0m\n\u001b[0m\u001b[1;32m      9\u001b[0m             \u001b[0mchordals\u001b[0m\u001b[0;34m.\u001b[0m\u001b[0mappend\u001b[0m\u001b[0;34m(\u001b[0m\u001b[0mtmp\u001b[0m\u001b[0;34m)\u001b[0m\u001b[0;34m\u001b[0m\u001b[0;34m\u001b[0m\u001b[0m\n",
      "\u001b[0;32m~/opt/anaconda3/lib/python3.7/site-packages/networkx/algorithms/chordal.py\u001b[0m in \u001b[0;36mis_chordal\u001b[0;34m(G)\u001b[0m\n\u001b[1;32m     81\u001b[0m     \u001b[0;32mif\u001b[0m \u001b[0mG\u001b[0m\u001b[0;34m.\u001b[0m\u001b[0mis_multigraph\u001b[0m\u001b[0;34m(\u001b[0m\u001b[0;34m)\u001b[0m\u001b[0;34m:\u001b[0m\u001b[0;34m\u001b[0m\u001b[0;34m\u001b[0m\u001b[0m\n\u001b[1;32m     82\u001b[0m         \u001b[0;32mraise\u001b[0m \u001b[0mnx\u001b[0m\u001b[0;34m.\u001b[0m\u001b[0mNetworkXError\u001b[0m\u001b[0;34m(\u001b[0m\u001b[0;34m'Multiply connected graphs not supported.'\u001b[0m\u001b[0;34m)\u001b[0m\u001b[0;34m\u001b[0m\u001b[0;34m\u001b[0m\u001b[0m\n\u001b[0;32m---> 83\u001b[0;31m     \u001b[0;32mif\u001b[0m \u001b[0mlen\u001b[0m\u001b[0;34m(\u001b[0m\u001b[0m_find_chordality_breaker\u001b[0m\u001b[0;34m(\u001b[0m\u001b[0mG\u001b[0m\u001b[0;34m)\u001b[0m\u001b[0;34m)\u001b[0m \u001b[0;34m==\u001b[0m \u001b[0;36m0\u001b[0m\u001b[0;34m:\u001b[0m\u001b[0;34m\u001b[0m\u001b[0;34m\u001b[0m\u001b[0m\n\u001b[0m\u001b[1;32m     84\u001b[0m         \u001b[0;32mreturn\u001b[0m \u001b[0;32mTrue\u001b[0m\u001b[0;34m\u001b[0m\u001b[0;34m\u001b[0m\u001b[0m\n\u001b[1;32m     85\u001b[0m     \u001b[0;32melse\u001b[0m\u001b[0;34m:\u001b[0m\u001b[0;34m\u001b[0m\u001b[0;34m\u001b[0m\u001b[0m\n",
      "\u001b[0;32m~/opt/anaconda3/lib/python3.7/site-packages/networkx/algorithms/chordal.py\u001b[0m in \u001b[0;36m_find_chordality_breaker\u001b[0;34m(G, s, treewidth_bound)\u001b[0m\n\u001b[1;32m    308\u001b[0m         \u001b[0;32mif\u001b[0m \u001b[0m_is_complete_graph\u001b[0m\u001b[0;34m(\u001b[0m\u001b[0msg\u001b[0m\u001b[0;34m)\u001b[0m\u001b[0;34m:\u001b[0m\u001b[0;34m\u001b[0m\u001b[0;34m\u001b[0m\u001b[0m\n\u001b[1;32m    309\u001b[0m             \u001b[0;31m# The graph seems to be chordal by now. We update the treewidth\u001b[0m\u001b[0;34m\u001b[0m\u001b[0;34m\u001b[0m\u001b[0;34m\u001b[0m\u001b[0m\n\u001b[0;32m--> 310\u001b[0;31m             \u001b[0mcurrent_treewidth\u001b[0m \u001b[0;34m=\u001b[0m \u001b[0mmax\u001b[0m\u001b[0;34m(\u001b[0m\u001b[0mcurrent_treewidth\u001b[0m\u001b[0;34m,\u001b[0m \u001b[0mlen\u001b[0m\u001b[0;34m(\u001b[0m\u001b[0mclique_wanna_be\u001b[0m\u001b[0;34m)\u001b[0m\u001b[0;34m)\u001b[0m\u001b[0;34m\u001b[0m\u001b[0;34m\u001b[0m\u001b[0m\n\u001b[0m\u001b[1;32m    311\u001b[0m             \u001b[0;32mif\u001b[0m \u001b[0mcurrent_treewidth\u001b[0m \u001b[0;34m>\u001b[0m \u001b[0mtreewidth_bound\u001b[0m\u001b[0;34m:\u001b[0m\u001b[0;34m\u001b[0m\u001b[0;34m\u001b[0m\u001b[0m\n\u001b[1;32m    312\u001b[0m                 raise nx.NetworkXTreewidthBoundExceeded(\n",
      "\u001b[0;31mKeyboardInterrupt\u001b[0m: "
     ]
    }
   ],
   "source": [
    "chordals = []\n",
    "g = nx.complete_graph(20)\n",
    "list(combinations(g.edges, 2))\n",
    "for i in range(3, 6):\n",
    "    for edge_set in combinations(g.edges, i):\n",
    "        tmp = nx.Graph()\n",
    "        tmp.add_edges_from(edge_set)\n",
    "        if nx.is_chordal(tmp) and nx.is_connected(tmp) and len(tmp) == 4:\n",
    "            chordals.append(tmp)"
   ]
  },
  {
   "cell_type": "code",
   "execution_count": null,
   "metadata": {},
   "outputs": [],
   "source": [
    "k = len(chordals)\n",
    "P = np.zeros((k, k))"
   ]
  },
  {
   "cell_type": "code",
   "execution_count": null,
   "metadata": {},
   "outputs": [],
   "source": [
    "for i, c in enumerate(chordals):\n",
    "    children = get_children(c)\n",
    "    s = 0\n",
    "    visited = set()\n",
    "    for child in children:\n",
    "        j = get_index(child, chordals)\n",
    "        P[i,j] = child.prob"
   ]
  },
  {
   "cell_type": "code",
   "execution_count": null,
   "metadata": {},
   "outputs": [],
   "source": [
    "i0 = random.randint(0, k-1)\n",
    "\n",
    "plotGraph(chordals[i0])"
   ]
  },
  {
   "cell_type": "code",
   "execution_count": 38,
   "metadata": {},
   "outputs": [
    {
     "data": {
      "image/png": "[encoded data removed]",
      "text/plain": [
       "<Figure size 720x288 with 3 Axes>"
      ]
     },
     "metadata": {
      "needs_background": "light"
     },
     "output_type": "display_data"
    }
   ],
   "source": [
    "d = np.zeros((1,k))\n",
    "d[0, i0] = 1\n",
    "\n",
    "d.squeeze(0)\n",
    "# plt.figure(figsize=(20, 5))\n",
    "fig, ax = plt.subplots(1, 3, sharex=True, sharey=True, figsize=(10, 4)) \n",
    "gaps = [0, 3, 10]\n",
    "n = 0\n",
    "for i in range(12):\n",
    "    if i in gaps:\n",
    "        ax[n].plot(1,3,n)\n",
    "        ax[n].bar([i for i in range(k)],d.squeeze(0))\n",
    "        ax[n].set_ylim([0,1.1])\n",
    "        ax[n].set_title(f\"t={i}\")\n",
    "        n += 1\n",
    "    d = d.dot(P)\n",
    "plt.savefig('/Users/wenbosun/Desktop/distribution.png', dpi=300, bbox_inches='tight', pad_inches=0)"
   ]
  },
  {
   "cell_type": "code",
   "execution_count": null,
   "metadata": {},
   "outputs": [],
   "source": []
  },
  {
   "cell_type": "code",
   "execution_count": null,
   "metadata": {},
   "outputs": [],
   "source": [
    "          \n",
    "plt.figure(figsize=(18, 13))\n",
    "for i in range(34):\n",
    "    plt.subplot(5, 7, i+1)\n",
    "    plotGraph(l[i], pos=nx.kamada_kawai_layout(g))\n",
    "plt.savefig('/Users/wenbosun/Desktop/chordal.png', dpi=300, bbox_inches='tight', pad_inches=0)"
   ]
  },
  {
   "cell_type": "code",
   "execution_count": null,
   "metadata": {},
   "outputs": [],
   "source": []
  },
  {
   "cell_type": "code",
   "execution_count": null,
   "metadata": {},
   "outputs": [],
   "source": []
  }
 ],
 "metadata": {
  "kernelspec": {
   "display_name": "Python 3",
   "language": "python",
   "name": "python3"
  },
  "language_info": {
   "codemirror_mode": {
    "name": "ipython",
    "version": 3
   },
   "file_extension": ".py",
   "mimetype": "text/x-python",
   "name": "python",
   "nbconvert_exporter": "python",
   "pygments_lexer": "ipython3",
   "version": "3.7.6"
  }
 },
 "nbformat": 4,
 "nbformat_minor": 4
}
