{
 "cells": [
  {
   "cell_type": "code",
   "execution_count": 1,
   "metadata": {},
   "outputs": [],
   "source": [
    "import networkx as nx\n",
    "import dwave_networkx as dnx\n",
    "import random\n",
    "import matplotlib.pyplot as plt\n",
    "import pulp\n",
    "import numpy as np\n",
    "import math\n",
    "\n",
    "from copy import deepcopy\n",
    "from lpSolver import solve\n",
    "from uccgGenerator import tree_insertion, Graph\n",
    "from plotNetwork import plotGraph, plotCoupling"
   ]
  },
  {
   "cell_type": "code",
   "execution_count": 2,
   "metadata": {},
   "outputs": [],
   "source": [
    "def valid_path(path):\n",
    "    return path.count(1) >= math.ceil(len(path)/2)\n",
    "\n",
    "def get_children(path):\n",
    "    result = []\n",
    "    for i in range(len(path)-1):\n",
    "        tmp = list(path)\n",
    "        if abs(tmp[i]-tmp[i+1]) != 1:\n",
    "            continue\n",
    "        tmp[i], tmp[i+1] = tmp[i+1], tmp[i]\n",
    "        if valid_path(tmp[:i+1]) and valid_path(tmp[:i+2]):\n",
    "            result.append(tmp)\n",
    "    return result"
   ]
  },
  {
   "cell_type": "code",
   "execution_count": 3,
   "metadata": {},
   "outputs": [
    {
     "name": "stdout",
     "output_type": "stream",
     "text": [
      "[1, 1, 0, 1, 0, 0]\n",
      "[1, 1, 0, 0, 1, 0]\n",
      "[1, 0, 1, 0, 1, 0]\n",
      "[1, 0, 1, 1, 0, 0]\n",
      "[1, 0, 1, 0, 1, 0]\n",
      "[1, 0, 1, 1, 0, 0]\n",
      "[1, 1, 0, 1, 0, 0]\n",
      "[1, 1, 0, 0, 1, 0]\n",
      "[1, 1, 0, 1, 0, 0]\n",
      "[1, 0, 1, 1, 0, 0]\n",
      "[1, 0, 1, 0, 1, 0]\n",
      "[1, 0, 1, 1, 0, 0]\n",
      "[1, 1, 0, 1, 0, 0]\n",
      "[1, 0, 1, 1, 0, 0]\n",
      "[1, 1, 0, 1, 0, 0]\n",
      "[1, 1, 1, 0, 0, 0]\n",
      "[1, 1, 0, 1, 0, 0]\n",
      "[1, 1, 0, 0, 1, 0]\n",
      "[1, 0, 1, 0, 1, 0]\n",
      "[1, 0, 1, 1, 0, 0]\n"
     ]
    }
   ],
   "source": [
    "n = 3\n",
    "path = [1] * n + [0] * n\n",
    "for _ in range(20):\n",
    "    path = random.choice(get_children(path))\n",
    "    print(path)"
   ]
  },
  {
   "cell_type": "code",
   "execution_count": null,
   "metadata": {},
   "outputs": [],
   "source": []
  },
  {
   "cell_type": "code",
   "execution_count": null,
   "metadata": {},
   "outputs": [],
   "source": []
  }
 ],
 "metadata": {
  "kernelspec": {
   "display_name": "Python 3",
   "language": "python",
   "name": "python3"
  },
  "language_info": {
   "codemirror_mode": {
    "name": "ipython",
    "version": 3
   },
   "file_extension": ".py",
   "mimetype": "text/x-python",
   "name": "python",
   "nbconvert_exporter": "python",
   "pygments_lexer": "ipython3",
   "version": "3.7.3"
  }
 },
 "nbformat": 4,
 "nbformat_minor": 4
}
