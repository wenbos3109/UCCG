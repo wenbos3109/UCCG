{
 "cells": [
  {
   "cell_type": "code",
   "execution_count": null,
   "metadata": {
    "pycharm": {
     "is_executing": true
    }
   },
   "outputs": [],
   "source": [
    "import networkx as nx\n",
    "from uccgGenerator import tree_insertion\n",
    "from plotNetwork import plotGraph\n",
    "import random\n",
    "import matplotlib.pyplot as plt\n",
    "from itertools import combinations\n",
    "from networkx.drawing.nx_agraph import graphviz_layout, to_agraph\n",
    "from matplotlib.patches import ArrowStyle\n",
    "from networkx.algorithms.approximation.treewidth import *\n",
    "from networkx.algorithms.dag import *\n",
    "from functools import partial"
   ]
  },
  {
   "cell_type": "code",
   "execution_count": null,
   "metadata": {
    "pycharm": {
     "is_executing": true
    }
   },
   "outputs": [],
   "source": [
    "res = 'res'\n",
    "sep = 'sep'\n",
    "label = 'I'\n",
    "status = 'status'\n",
    "I_edge = 'I_edge'\n",
    "F_edge = 'F_edge'\n",
    "common_edge = 'common_edge'\n",
    "in_current = 'in_current'\n",
    "\n",
    "connectionstyle = 'arc3, rad=0.1'\n",
    "node_size = 300\n",
    "color = 'white'\n",
    "font_size = 13\n",
    "alpha=1\n",
    "width = 2"
   ]
  },
  {
   "cell_type": "code",
   "execution_count": null,
   "metadata": {
    "pycharm": {
     "is_executing": true
    }
   },
   "outputs": [],
   "source": [
    "def random_flip(g):\n",
    "    u, v = random.sample(g.edges, 1)[0]\n",
    "    g.remove_edge(u, v)\n",
    "    g.add_edge(v, u)\n",
    "    return g"
   ]
  },
  {
   "cell_type": "code",
   "execution_count": null,
   "metadata": {
    "pycharm": {
     "is_executing": true
    }
   },
   "outputs": [],
   "source": [
    "def get_IF(I, F):\n",
    "    common_edges = list(set(I.edges).intersection(F.edges))\n",
    "    diff_edges = list(set(I.edges).symmetric_difference(F.edges))\n",
    "    IF = nx.DiGraph()\n",
    "\n",
    "    IF.add_edges_from(common_edges+diff_edges)\n",
    "    for e in set(I.edges) - set(F.edges):\n",
    "        IF.edges[e][label] = I_edge\n",
    "        IF.edges[e][in_current] = True \n",
    "    for e in set(F.edges) - set(I.edges):\n",
    "        IF.edges[e][label] = F_edge \n",
    "        IF.edges[e][in_current] = False\n",
    "    for e in common_edges:\n",
    "        IF.edges[e][label] = common_edge \n",
    "        IF.edges[e][in_current] = True \n",
    "    return IF"
   ]
  },
  {
   "cell_type": "code",
   "execution_count": null,
   "metadata": {
    "pycharm": {
     "is_executing": true
    }
   },
   "outputs": [],
   "source": [
    "def current_graph(IF):\n",
    "    current_edges = [e for e in IF.edges if IF.edges[e][in_current]]\n",
    "    dg = nx.DiGraph()\n",
    "    dg.add_edges_from(current_edges)\n",
    "    return dg"
   ]
  },
  {
   "cell_type": "code",
   "execution_count": null,
   "metadata": {
    "pycharm": {
     "is_executing": true
    }
   },
   "outputs": [],
   "source": [
    "def plot_edges(IF, pos, edges):\n",
    "    if len(edges) == 0:\n",
    "        return\n",
    "    e = edges[0]\n",
    "    is_in_current = IF.edges[e][in_current]\n",
    "    color = {I_edge: 'b', F_edge: 'r'}[IF.edges[e][label]]\n",
    "    width = {True: 1.5, False: 1}[is_in_current]\n",
    "    style = {True: 'solid', False: 'dotted'}[is_in_current]\n",
    "    alpha = {True:1, False:0.5}[is_in_current]\n",
    "    nx.draw_networkx_edges(IF, pos, edges, edge_color=color, alpha=alpha, width=width, connectionstyle=connectionstyle)"
   ]
  },
  {
   "cell_type": "code",
   "execution_count": null,
   "metadata": {
    "pycharm": {
     "is_executing": true
    }
   },
   "outputs": [],
   "source": [
    "def plot_IF(IF, pos):\n",
    "    nx.draw_networkx_nodes(IF, pos, linewidths=width, node_size=node_size, node_color=color, edgecolors='k')\n",
    "    nx.draw_networkx_edges(IF, pos, [e for e in IF.edges if IF.edges[e][label] == common_edge], width=1, alpha=0.3)\n",
    "    I_edges = [e for e in IF.edges if IF.edges[e][label] == I_edge]\n",
    "    F_edges = [e for e in IF.edges if IF.edges[e][label] == F_edge]\n",
    "     \n",
    "    plot_edges(IF, pos, [e for e in I_edges if IF.edges[e][in_current]])\n",
    "    plot_edges(IF, pos, [e for e in I_edges if not IF.edges[e][in_current]])\n",
    "    plot_edges(IF, pos, [e for e in F_edges if IF.edges[e][in_current]])\n",
    "    plot_edges(IF, pos, [e for e in F_edges if not IF.edges[e][in_current]])\n",
    "    nx.draw_networkx_labels(IF, pos)"
   ]
  },
  {
   "cell_type": "code",
   "execution_count": null,
   "metadata": {
    "pycharm": {
     "is_executing": true
    }
   },
   "outputs": [],
   "source": [
    "def plot_complement(IF, pos):\n",
    "    common_edges = [e for e in IF.edges if IF.edges[e][label] == common_edge]\n",
    "    nx.draw_networkx_edges(IF, pos, common_edges, width=1, alpha=0.3)\n",
    "    complement_edges = [e for e in IF.edges if e not in common_edges and not IF.edges[e][in_current]]\n",
    "    current_edges = [e for e in IF.edges if IF.edges[e][in_current] and IF.edges[e][label] != common_edge]\n",
    "    nx.draw_networkx_edges(IF, pos, complement_edges, edge_color='m', width=1.5, connectionstyle=connectionstyle)\n",
    "    nx.draw_networkx_edges(IF, pos, current_edges, edge_color='g', alpha=0.5, width=1, connectionstyle=connectionstyle)\n",
    "    nx.draw_networkx_nodes(IF, pos, linewidths=width, node_size=node_size, node_color=color, edgecolors='k')\n",
    "    nx.draw_networkx_labels(IF, pos)"
   ]
  },
  {
   "cell_type": "code",
   "execution_count": null,
   "metadata": {
    "pycharm": {
     "is_executing": true
    }
   },
   "outputs": [],
   "source": [
    "def get_sep_and_res(rt, u):\n",
    "    predecessors = set(rt.predecessors(u))\n",
    "    parent = list(predecessors)[0] if len(predecessors) > 0 else None\n",
    "    rt.nodes[u][sep] = u.intersection(parent) if parent else set()\n",
    "    rt.nodes[u][res] = u - rt.nodes[u][sep]\n",
    "    for v in rt.successors(u):\n",
    "        get_sep_and_res(rt, v)"
   ]
  },
  {
   "cell_type": "code",
   "execution_count": null,
   "metadata": {
    "pycharm": {
     "is_executing": true
    }
   },
   "outputs": [],
   "source": [
    "def process_clique(IF, c):\n",
    "    update = True\n",
    "    while update:\n",
    "        update = False\n",
    "        sub_g = IF.subgraph(c)\n",
    "        top_order = list(topological_sort(current_graph(sub_g)))\n",
    "        reversible_edges = [(u, v) for (u, v) in sub_g.edges if sub_g.edges[(u,v)][in_current] and sub_g.edges[(u,v)][label] == I_edge]\n",
    "        for u, v in reversible_edges:\n",
    "            # u -> v is an directed edge\n",
    "            if top_order.index(u)-top_order.index(v) != -1:\n",
    "                continue\n",
    "            IF.edges[(u, v)][in_current] = False\n",
    "            IF.edges[(v, u)][in_current] = True\n",
    "            if not nx.is_directed_acyclic_graph(current_graph(IF)):\n",
    "                IF.edges[(u, v)][in_current] = True\n",
    "                IF.edges[(v, u)][in_current] = False\n",
    "            else:\n",
    "                plt.figure(figsize=(12, 6))\n",
    "                plt.subplot(1,2,1)\n",
    "                plot_IF(IF, pos)\n",
    "                plt.title(f'clique: {set(c)}, reverse {(u, v)}')\n",
    "                plt.subplot(1,2,2)\n",
    "                plot_complement(IF, pos)\n",
    "                update = True\n",
    "                break\n",
    "    return all([sub_g.edges[e][in_current] for e in sub_g.edges if sub_g.edges[e][label] == F_edge])\n",
    "\n",
    "def process(rt, IF, root):\n",
    "    finished = process_clique(IF, root)\n",
    "    for child in rt.successors(root):\n",
    "        process(rt, IF, child)\n",
    "    print(root, finished)\n",
    "    if not finished:\n",
    "        process_clique(IF, root)"
   ]
  },
  {
   "cell_type": "code",
   "execution_count": null,
   "metadata": {
    "pycharm": {
     "is_executing": true
    }
   },
   "outputs": [],
   "source": [
    "g = tree_insertion(20, 30)\n",
    "dg = nx.DiGraph()\n",
    "for u, v in g.edges:\n",
    "    dg.add_edge(u, v)\n",
    "while not nx.is_directed_acyclic_graph(dg):\n",
    "    dg = random_flip(dg)\n",
    "nx.is_directed_acyclic_graph(dg)"
   ]
  },
  {
   "cell_type": "code",
   "execution_count": null,
   "metadata": {
    "pycharm": {
     "is_executing": true
    }
   },
   "outputs": [],
   "source": [
    "I = dg\n",
    "F = nx.DiGraph(I)\n",
    "for _ in range(100):\n",
    "    F = random_flip(F)\n",
    "    while not nx.is_directed_acyclic_graph(F):\n",
    "        F = random_flip(F)\n",
    "\n",
    "pos = nx.kamada_kawai_layout(I)\n",
    "pos = graphviz_layout(I, prog='dot')\n",
    "\n",
    "# plt.figure(figsize=(10, 5))\n",
    "# plt.subplot(1,2,1)\n",
    "\n",
    "# plotGraph(I, pos)\n",
    "# plt.subplot(1,2,2)\n",
    "# plotGraph(F, pos)"
   ]
  },
  {
   "cell_type": "code",
   "execution_count": null,
   "metadata": {
    "pycharm": {
     "is_executing": true
    }
   },
   "outputs": [],
   "source": [
    "IF = get_IF(I, F)\n",
    "_, t = treewidth_min_fill_in(I.to_undirected())\n",
    "root = list(topological_sort(I))[0]\n",
    "root_clique = random.choice([c for c in t if root in c])\n",
    "rt = nx.dfs_tree(t, root_clique)\n",
    "get_sep_and_res(rt, root_clique)\n",
    "\n",
    "plt.figure(figsize=(12, 5))\n",
    "plt.subplot(1,2,1)\n",
    "plot_IF(IF, pos)\n",
    "plt.subplot(1,2,2)\n",
    "plotGraph(rt, graphviz_layout(rt, prog='dot'))"
   ]
  },
  {
   "cell_type": "code",
   "execution_count": null,
   "metadata": {
    "pycharm": {
     "is_executing": true
    }
   },
   "outputs": [],
   "source": [
    "root_clique"
   ]
  },
  {
   "cell_type": "code",
   "execution_count": null,
   "metadata": {},
   "outputs": [],
   "source": [
    "process(rt, IF, root_clique)"
   ]
  },
  {
   "cell_type": "code",
   "execution_count": null,
   "metadata": {},
   "outputs": [],
   "source": [
    "for e in IF.edges:\n",
    "#     if IF.edges[e][label] == I_edge:\n",
    "#         print(IF.edges[e][in_current])\n",
    "    if IF.edges[e][label] == F_edge and not IF.edges[e][in_current] :\n",
    "        print(e, IF.edges[e][in_current])"
   ]
  },
  {
   "cell_type": "code",
   "execution_count": null,
   "metadata": {},
   "outputs": [],
   "source": []
  }
 ],
 "metadata": {
  "kernelspec": {
   "display_name": "Python 3",
   "language": "python",
   "name": "python3"
  },
  "language_info": {
   "codemirror_mode": {
    "name": "ipython",
    "version": 3
   },
   "file_extension": ".py",
   "mimetype": "text/x-python",
   "name": "python",
   "nbconvert_exporter": "python",
   "pygments_lexer": "ipython3",
   "version": "3.7.7"
  }
 },
 "nbformat": 4,
 "nbformat_minor": 4
}