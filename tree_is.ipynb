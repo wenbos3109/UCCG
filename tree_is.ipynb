{
 "cells": [
  {
   "cell_type": "code",
   "execution_count": null,
   "metadata": {},
   "outputs": [],
   "source": [
    "import networkx as nx\n",
    "import random\n",
    "import matplotlib.pyplot as plt\n",
    "\n",
    "from networkx.drawing.nx_agraph import graphviz_layout, to_agraph\n",
    "\n",
    "from itertools import combinations"
   ]
  },
  {
   "cell_type": "code",
   "execution_count": null,
   "metadata": {},
   "outputs": [],
   "source": [
    "node_size = 300\n",
    "font_size = 13\n",
    "width = 5"
   ]
  },
  {
   "cell_type": "code",
   "execution_count": null,
   "metadata": {},
   "outputs": [],
   "source": [
    "init = 'initial'\n",
    "final = 'final'\n",
    "label = 'label'\n",
    "in_encoding = 'in_encoding'\n",
    "in_current = 'in_current'\n",
    "children = 'children'"
   ]
  },
  {
   "cell_type": "code",
   "execution_count": null,
   "metadata": {},
   "outputs": [],
   "source": [
    "def plot_encoding_tree(t, figsize=None, transition=None, title=None, plot_encoding=False):\n",
    "    figsize = (12, 6) if not figsize else figsize\n",
    "    plt.figure(figsize=figsize)\n",
    "    plt.subplot(1, 2, 1)\n",
    "    if title: \n",
    "        plt.title(title)\n",
    "    plt.axis('off')\n",
    "    pos = graphviz_layout(t, prog='dot')\n",
    "#     pos = nx.spectral_layout(t)\n",
    "    if plot_encoding:\n",
    "        nx.draw_networkx_nodes(t, pos, nodelist=[u for u in t if t.nodes[u][in_encoding]], \n",
    "                           node_size=node_size*2, node_color='white',linewidths=width, edgecolors='m')\n",
    "    else:\n",
    "        # plot the complement\n",
    "        nx.draw_networkx_nodes(t, pos, nodelist=[u for u in t if not t.nodes[u][in_current]], \n",
    "                           node_size=node_size*2, node_color='white',linewidths=width, edgecolors='c')\n",
    "    nx.draw_networkx_nodes(t, pos, nodelist=[u for u in t if t.nodes[u][in_current]], \n",
    "                           node_size=node_size*1.2, node_color='white',linewidths=width, edgecolors='g')\n",
    "    nx.draw_networkx_nodes(t, pos, nodelist=[u for u in t if t.nodes[u][label]==init], \n",
    "                           node_size=node_size, node_color='b', alpha=1)\n",
    "    nx.draw_networkx_nodes(t, pos, nodelist=[u for u in t if t.nodes[u][label]==final], \n",
    "                           node_size=node_size, node_color='r', alpha=1)\n",
    "    nx.draw_networkx_labels(t, pos, font_size=font_size)\n",
    "    nx.draw_networkx_edges(t, pos, width=1.5)\n",
    "    \n",
    "    plt.subplot(1, 2, 2)\n",
    "    plt.axis('off')\n",
    "    nodes = [u for u in t if t.nodes[u][in_encoding] or t.nodes[u][in_current]]\n",
    "    ct = nx.induced_subgraph(t, nodes)\n",
    "    nx.draw_networkx_nodes(ct, pos, nodelist=[u for u in t if t.nodes[u][in_encoding]], \n",
    "                           node_size=node_size*2, node_color='white',linewidths=width, edgecolors='m')\n",
    "    nx.draw_networkx_nodes(ct, pos, nodelist=[u for u in t if t.nodes[u][in_current]], \n",
    "                           node_size=node_size*1.2, node_color='white',linewidths=width, edgecolors='g')\n",
    "    nx.draw_networkx_labels(ct, pos, font_size=font_size)\n",
    "    nx.draw_networkx_edges(ct, pos, width=1.5)"
   ]
  },
  {
   "cell_type": "code",
   "execution_count": null,
   "metadata": {},
   "outputs": [],
   "source": [
    "def color_the_tree(t, root, color):\n",
    "    t.nodes[root][label] = init if color == 0 else final\n",
    "    for u in t.successors(root):\n",
    "        color_the_tree(t, u, 1-color)"
   ]
  },
  {
   "cell_type": "code",
   "execution_count": null,
   "metadata": {},
   "outputs": [],
   "source": [
    "def generate_tree(n):\n",
    "    t = nx.random_tree(n)\n",
    "#     t = nx.path_graph(n)\n",
    "    root = random.sample(t.nodes, 1)[0]\n",
    "    root = min([u for u in t if t.degree(u) == 1])\n",
    "    t = nx.dfs_tree(t, root)\n",
    "    color_the_tree(t, root, random.choice([0, 1]))\n",
    "    for u in t:\n",
    "        t.nodes[u][in_current] = t.nodes[u][label] == init\n",
    "        t.nodes[u][in_encoding] = t.nodes[u][label] != init\n",
    "    return t, root"
   ]
  },
  {
   "cell_type": "code",
   "execution_count": null,
   "metadata": {},
   "outputs": [],
   "source": [
    "def get_parent(t, u):\n",
    "    pre = list(t.predecessors(u))\n",
    "    return pre[0] if len(pre) > 0 else None"
   ]
  },
  {
   "cell_type": "code",
   "execution_count": null,
   "metadata": {},
   "outputs": [],
   "source": [
    "def get_neighbors_of_status(t, root, status):\n",
    "    parent = get_parent(t, root)\n",
    "    neighbors_of_status = [parent] if parent is not None and t.nodes[parent][status] else []\n",
    "    neighbors_of_status.extend([u for u in t.successors(root) if t.nodes[u][status]])\n",
    "    return neighbors_of_status"
   ]
  },
  {
   "cell_type": "code",
   "execution_count": null,
   "metadata": {},
   "outputs": [],
   "source": [
    "def longest_path(t):\n",
    "    leaves = [u for u in t if t.out_degree(u) == 0]\n",
    "    und_t = nx.Graph(t)\n",
    "    lengths_paths = []\n",
    "    for u, v in combinations(leaves, 2):\n",
    "        path = nx.shortest_path(und_t, source=u, target=v)\n",
    "        lengths_paths.append((len(path), path))\n",
    "    lengths_paths.sort(reverse=True)\n",
    "    return lengths_paths[0][1]"
   ]
  },
  {
   "cell_type": "code",
   "execution_count": null,
   "metadata": {},
   "outputs": [],
   "source": [
    "def update_encoding_for_blue(t, blue, figsize):\n",
    "    # try to add blue to encoding\n",
    "    if t.nodes[blue][in_current]:\n",
    "        return\n",
    "    neighbors_in_encoding = get_neighbors_of_status(t, blue, in_encoding)\n",
    "    n = len(neighbors_in_encoding) \n",
    "    if n >= 2:\n",
    "        return\n",
    "    drag_encoding = False\n",
    "    if n == 1:\n",
    "        target = neighbors_in_encoding[0]\n",
    "        t.nodes[target][in_encoding] = False\n",
    "        action = f\"update encoding for blue: {target} to {blue}\"\n",
    "        drag_encoding = True\n",
    "    else:\n",
    "        action = f\"update encoding for blue: add {blue}\"\n",
    "    t.nodes[blue][in_encoding] = True\n",
    "    plot_encoding_tree(t, title=action, figsize=figsize)\n",
    "#     if drag_encoding:\n",
    "#         update_encoding_for_red(t, red, figsize)"
   ]
  },
  {
   "cell_type": "code",
   "execution_count": null,
   "metadata": {},
   "outputs": [],
   "source": [
    "# def update_encoding_for_red(t, red, figsize):\n",
    "#     if t.nodes[red][in_encoding]:\n",
    "#         return\n",
    "#     neighbors_in_encoding = get_neighbors_of_status(t, red, in_encoding)\n",
    "#     n = len(neighbors_in_encoding) \n",
    "#     if n >= 2:\n",
    "#         return\n",
    "#     drag_encoding = False\n",
    "#     if n == 1:\n",
    "#         target = neighbors_in_encoding[0]\n",
    "#         t.nodes[target][in_encoding] = False\n",
    "#         action = f\"update encoding for red: {target} to {red}\"\n",
    "#         drag_encoding = True\n",
    "#     else:\n",
    "#         action = f\"update encoding for red: add {b}\"\n",
    "#     t.nodes[blue][in_encoding] = True\n",
    "#     plot_encoding_tree(t, action, figsize)\n",
    "# #     if drag_encoding:\n",
    "# #         update_encoding_for_red(t, red, figsize)"
   ]
  },
  {
   "cell_type": "code",
   "execution_count": null,
   "metadata": {},
   "outputs": [],
   "source": [
    "def process_blue(t, blue, figsize):\n",
    "    # delete or push to parent\n",
    "    if not t.nodes[blue][in_current]:\n",
    "        return \n",
    "    parent = get_parent(t, blue)\n",
    "    if parent is None or t.nodes[parent][in_current]:\n",
    "        return\n",
    "    parent_neighbors_in_current = get_neighbors_of_status(t, parent, in_current)\n",
    "    n = len(parent_neighbors_in_current)\n",
    "    if n == 1:\n",
    "        t.nodes[parent][in_current] = True\n",
    "        action = f\"process blue: drag {blue} to {parent}\"\n",
    "    else:\n",
    "        action = f\"process blue: remove {blue}\"\n",
    "    t.nodes[blue][in_current] = False\n",
    "    plot_encoding_tree(t, title=action, figsize=figsize)\n",
    "#     update_encoding_for_blue(t, blue, figsize)"
   ]
  },
  {
   "cell_type": "code",
   "execution_count": null,
   "metadata": {},
   "outputs": [],
   "source": [
    "def process_red(t, red, figsize):\n",
    "    # drag or remove\n",
    "    if t.nodes[red][in_current]:\n",
    "        return\n",
    "    neighbors_in_current = get_neighbors_of_status(t, red, in_current)\n",
    "    n = len(neighbors_in_current)\n",
    "    if n >= 2:\n",
    "        return\n",
    "    drag_blue = False\n",
    "    if n == 1:\n",
    "        target = neighbors_in_current[0]\n",
    "        t.nodes[target][in_current] = False\n",
    "        action = f\"process red: drag {target} to {red}\"\n",
    "        drag_blue = True\n",
    "    else:\n",
    "        action = f'process red: add {red}'\n",
    "    t.nodes[red][in_current] = True\n",
    "    t.nodes[red][in_encoding] = False\n",
    "    plot_encoding_tree(t, title=action, figsize=figsize)\n",
    "#     if drag_blue:\n",
    "#         update_encoding_for_blue(t, target, figsize)"
   ]
  },
  {
   "cell_type": "code",
   "execution_count": null,
   "metadata": {},
   "outputs": [],
   "source": [
    "# do we need propagation?\n",
    "def process(t, root, figsize):\n",
    "    root_label = t.nodes[root][label]\n",
    "#     if root_label == init:\n",
    "#         process_blue(t, root, figsize)\n",
    "#     if root_label == final:\n",
    "#         process_red(t, root, figsize)\n",
    "    for u in t.successors(root):\n",
    "        process(t, u, figsize)\n",
    "    if root_label == init:\n",
    "        process_blue(t, root, figsize)\n",
    "    if root_label == final:\n",
    "        process_red(t, root, figsize)"
   ]
  },
  {
   "cell_type": "code",
   "execution_count": null,
   "metadata": {},
   "outputs": [],
   "source": [
    "t, root = generate_tree(20)"
   ]
  },
  {
   "cell_type": "code",
   "execution_count": null,
   "metadata": {},
   "outputs": [],
   "source": [
    "figsize = (12, 6)"
   ]
  },
  {
   "cell_type": "code",
   "execution_count": null,
   "metadata": {},
   "outputs": [],
   "source": [
    "plot_encoding_tree(t, figsize)"
   ]
  },
  {
   "cell_type": "code",
   "execution_count": null,
   "metadata": {},
   "outputs": [],
   "source": [
    "print(longest_path(t))"
   ]
  },
  {
   "cell_type": "code",
   "execution_count": null,
   "metadata": {},
   "outputs": [],
   "source": [
    "ct = nx.DiGraph(t)\n",
    "process(ct, root, figsize)"
   ]
  },
  {
   "cell_type": "code",
   "execution_count": null,
   "metadata": {},
   "outputs": [],
   "source": [
    "### order is a very important problem"
   ]
  },
  {
   "cell_type": "code",
   "execution_count": null,
   "metadata": {},
   "outputs": [],
   "source": []
  }
 ],
 "metadata": {
  "kernelspec": {
   "display_name": "Python 3",
   "language": "python",
   "name": "python3"
  },
  "language_info": {
   "codemirror_mode": {
    "name": "ipython",
    "version": 3
   },
   "file_extension": ".py",
   "mimetype": "text/x-python",
   "name": "python",
   "nbconvert_exporter": "python",
   "pygments_lexer": "ipython3",
   "version": "3.7.6"
  }
 },
 "nbformat": 4,
 "nbformat_minor": 4
}
