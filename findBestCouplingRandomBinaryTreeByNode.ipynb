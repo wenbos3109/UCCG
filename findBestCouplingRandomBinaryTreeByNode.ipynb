{
 "cells": [
  {
   "cell_type": "code",
   "execution_count": 10,
   "metadata": {},
   "outputs": [],
   "source": [
    "import networkx as nx\n",
    "import dwave_networkx as dnx\n",
    "import random\n",
    "import matplotlib.pyplot as plt\n",
    "import pulp\n",
    "import numpy as np\n",
    "from copy import deepcopy\n",
    "from tree import *\n",
    "\n",
    "from lpSolver import solve\n",
    "from uccgGenerator import tree_insertion, Graph\n",
    "from plotNetwork import plotGraph, plotCoupling"
   ]
  },
  {
   "cell_type": "markdown",
   "metadata": {},
   "source": [
    "## Binary tree\n",
    "\n",
    "The number of binary tree with $n$ nodes is a Catalan number:\n",
    "$$C_{n}=\\frac{1}{n+1}\\left(\\begin{array}{c}{2 n} \\\\ {n}\\end{array}\\right)=\\frac{(2 n) !}{(n+1) ! n !}=\\prod_{k=2}^{n} \\frac{n+k}{k}$$\n",
    "\n",
    "An $n$-binary tree is that it has $n$ internal nodes (two children) and $n-1$ other nodes (no children)"
   ]
  },
  {
   "cell_type": "code",
   "execution_count": 11,
   "metadata": {},
   "outputs": [],
   "source": [
    "def rotate_left_keep_left(u_node, parent):\n",
    "    # u is node, not idx\n",
    "    u_right = u_node.right\n",
    "    u_node.right = parent   \n",
    "    parent.left = u_right\n",
    "    u_right.parent = parent"
   ]
  },
  {
   "cell_type": "code",
   "execution_count": 12,
   "metadata": {},
   "outputs": [],
   "source": [
    "def rotate_right_keep_right(u_node, parent):\n",
    "    u_left = u_node.left\n",
    "    u_node.left = parent\n",
    "    parent.right = u_left\n",
    "    u_left.parent = parent"
   ]
  },
  {
   "cell_type": "code",
   "execution_count": 13,
   "metadata": {},
   "outputs": [],
   "source": [
    "def rotate_left_keep_right(u_node, parent):\n",
    "    u_left = u_node.left\n",
    "    u_node.left = parent\n",
    "    parent.left = u_left\n",
    "    u_left.parent = parent"
   ]
  },
  {
   "cell_type": "code",
   "execution_count": 14,
   "metadata": {},
   "outputs": [],
   "source": [
    "def rotate_right_keep_left(u_node, parent):\n",
    "    u_right = u_node.right\n",
    "    u_node.right = parent\n",
    "    parent.right = u_right\n",
    "    u_right.parent = parent"
   ]
  },
  {
   "cell_type": "code",
   "execution_count": 15,
   "metadata": {},
   "outputs": [],
   "source": [
    "left, right = 'left', 'right'\n",
    "rotate_func = {(prop, orient): eval(f\"rotate_{prop}_keep_{orient}\") for prop in [left, right] for orient in [left, right]}\n",
    "def rotate(t, u, orient):\n",
    "    u_node = t.get_node(u)\n",
    "    parent = u_node.parent\n",
    "    u_prop = left if u_node == parent.left else right\n",
    "    p_parent = parent.parent\n",
    "    rotate_func[(u_prop, orient)](u_node, parent)\n",
    "    parent.parent = u_node\n",
    "    u_node.parent = p_parent\n",
    "    if p_parent:\n",
    "        if p_parent.left == parent:\n",
    "            p_parent.left = u_node\n",
    "        else:\n",
    "            p_parent.right = u_node\n",
    "    else:\n",
    "        t.root = u_node"
   ]
  },
  {
   "cell_type": "code",
   "execution_count": 16,
   "metadata": {},
   "outputs": [],
   "source": [
    "def get_children(t):\n",
    "    # inner node should not be a leaf or the root\n",
    "    inner_nodes = t.get_inner_nodes()\n",
    "    n = len(inner_nodes)\n",
    "    prob = 1/(4*n)\n",
    "    children = []\n",
    "    total = 0\n",
    "    for u in inner_nodes:\n",
    "        for orient in [left, right]:\n",
    "            t1 = deepcopy(t)\n",
    "            rotate(t1, u, orient)\n",
    "            children.append(t1)\n",
    "            t1.prob = prob\n",
    "            total += prob\n",
    "    t_stay = deepcopy(t)\n",
    "    t_stay.prob = 1 - total\n",
    "    return children + [t_stay]"
   ]
  },
  {
   "cell_type": "code",
   "execution_count": 17,
   "metadata": {},
   "outputs": [],
   "source": [
    "def markov_chain_dist(t1, t2):\n",
    "    visited = set()\n",
    "    queue = [(t1, 0)]\n",
    "    while queue:\n",
    "        head, dist = queue.pop(0)\n",
    "        if head == t2:\n",
    "            return dist\n",
    "        children = get_children(head)\n",
    "        for child in children:\n",
    "            if child not in visited:\n",
    "                visited.add(child)\n",
    "                queue.append((child, dist+1))\n",
    "    return -1"
   ]
  },
  {
   "cell_type": "code",
   "execution_count": 18,
   "metadata": {},
   "outputs": [],
   "source": [
    "def generate_pair(h=2):\n",
    "    t1 = Tree(h)\n",
    "    for _ in range(50):\n",
    "        t1 = random.choice(get_children(t1))\n",
    "    t2 = random.choice(get_children(t1))\n",
    "    while t2 == t1:\n",
    "        t2 = random.choice(get_children(t1))\n",
    "    return t1, t2"
   ]
  },
  {
   "cell_type": "code",
   "execution_count": 19,
   "metadata": {},
   "outputs": [],
   "source": [
    "t1, t2 = generate_pair(3)\n",
    "t1_children = get_children(t1)\n",
    "t2_children = get_children(t2)\n",
    "l1, l2 = len(t1_children), len(t2_children)\n",
    "# for i in range(l1):\n",
    "#     for j in range(l2):\n",
    "#         print(len(t1_children[i].get_inner_nodes())== len(t2_children[j].get_inner_nodes()))"
   ]
  },
  {
   "cell_type": "code",
   "execution_count": 20,
   "metadata": {},
   "outputs": [
    {
     "name": "stdout",
     "output_type": "stream",
     "text": [
      "0\n",
      "1\n",
      "2\n",
      "3\n",
      "4\n",
      "5\n",
      "6\n",
      "7\n",
      "8\n",
      "9\n",
      "10\n",
      "11\n",
      "12\n",
      "0.9166666669999999\n"
     ]
    }
   ],
   "source": [
    "dists = np.zeros((l1, l2))\n",
    "for i in range(l1):\n",
    "    for j in range(l2):\n",
    "         dists[i][j] = markov_chain_dist(t1_children[i], t2_children[j])\n",
    "    print(i)\n",
    "status, dist, joint_prob = solve(t1_children, t2_children, dists)\n",
    "print(dist)"
   ]
  },
  {
   "cell_type": "code",
   "execution_count": null,
   "metadata": {},
   "outputs": [],
   "source": []
  },
  {
   "cell_type": "code",
   "execution_count": null,
   "metadata": {},
   "outputs": [],
   "source": []
  }
 ],
 "metadata": {
  "kernelspec": {
   "display_name": "Python 3",
   "language": "python",
   "name": "python3"
  },
  "language_info": {
   "codemirror_mode": {
    "name": "ipython",
    "version": 3
   },
   "file_extension": ".py",
   "mimetype": "text/x-python",
   "name": "python",
   "nbconvert_exporter": "python",
   "pygments_lexer": "ipython3",
   "version": "3.7.3"
  }
 },
 "nbformat": 4,
 "nbformat_minor": 4
}
