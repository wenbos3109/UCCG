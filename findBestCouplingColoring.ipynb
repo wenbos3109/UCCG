{
 "cells": [
  {
   "cell_type": "code",
   "execution_count": 1,
   "metadata": {},
   "outputs": [],
   "source": [
    "import networkx as nx\n",
    "import dwave_networkx as dnx\n",
    "import random\n",
    "import matplotlib.pyplot as plt\n",
    "import pulp\n",
    "import numpy as np\n",
    "\n",
    "from lpSolver import solve\n",
    "from uccgGenerator import tree_insertion, Graph\n",
    "from plotNetwork import plotGraph, plotCoupling"
   ]
  },
  {
   "cell_type": "code",
   "execution_count": 2,
   "metadata": {},
   "outputs": [],
   "source": [
    "delta = 3\n",
    "num_colors = 2 * delta + 1"
   ]
  },
  {
   "cell_type": "code",
   "execution_count": 3,
   "metadata": {},
   "outputs": [],
   "source": [
    "def get_cmap(n, name='hsv'):\n",
    "    '''Returns a function that maps each index in 0, 1, ..., n-1 to a distinct \n",
    "    RGB color; the keyword argument name must be a standard mpl colormap name.'''\n",
    "    return plt.cm.get_cmap(name, n)"
   ]
  },
  {
   "cell_type": "code",
   "execution_count": 4,
   "metadata": {},
   "outputs": [],
   "source": [
    "cmap = get_cmap(num_colors)\n",
    "colors= {cmap(i) for i in range(num_colors)}"
   ]
  },
  {
   "cell_type": "code",
   "execution_count": null,
   "metadata": {},
   "outputs": [],
   "source": [
    "def is_valid(g):\n",
    "    for u, v in g.edges:\n",
    "        if g.nodes[u]['color'] == g.nodes[v]['color']:\n",
    "            return False\n",
    "    return True"
   ]
  },
  {
   "cell_type": "code",
   "execution_count": null,
   "metadata": {},
   "outputs": [],
   "source": [
    "def get_available_colors(g, u):\n",
    "    used_colors = [g.nodes[v]['color'] for v in g.neighbors(u)]\n",
    "    available = colors - set(used_colors)\n",
    "    return available"
   ]
  },
  {
   "cell_type": "code",
   "execution_count": null,
   "metadata": {},
   "outputs": [],
   "source": [
    "def markov_move(g):\n",
    "    cg = nx.Graph(g)\n",
    "    u = random.sample(cg.nodes, 1)[0]\n",
    "    c = random.sample(get_available_colors(cg, u), 1)[0]\n",
    "    cg.nodes[u]['color'] = c\n",
    "    return cg"
   ]
  },
  {
   "cell_type": "code",
   "execution_count": null,
   "metadata": {},
   "outputs": [],
   "source": [
    "def get_children(g):\n",
    "    children = []\n",
    "    prob = 1/(len(g)*len(colors))\n",
    "    total = 0\n",
    "    for u in g.nodes:\n",
    "        for c in get_available_colors(g, u):\n",
    "            cg = nx.Graph(g)\n",
    "            cg.nodes[u]['color'] = c\n",
    "            cg.prob = prob\n",
    "            children.append(cg)\n",
    "            total += prob\n",
    "    g_stay = nx.Graph(g)\n",
    "    g_stay.prob = 1 - total\n",
    "    return children + [g_stay]"
   ]
  },
  {
   "cell_type": "code",
   "execution_count": null,
   "metadata": {},
   "outputs": [],
   "source": [
    "def get_dist(g1, g2):\n",
    "    count = 0\n",
    "    for u in g1.nodes:\n",
    "        if g1.nodes[u]['color'] != g2.nodes[u]['color']:\n",
    "            count += 1\n",
    "    return count"
   ]
  },
  {
   "cell_type": "code",
   "execution_count": null,
   "metadata": {},
   "outputs": [],
   "source": [
    "g1 = nx.random_regular_graph(delta, 12)\n",
    "for u in g1.nodes:\n",
    "    g1.nodes[u]['color'] = random.sample(colors, 1)[0]"
   ]
  },
  {
   "cell_type": "code",
   "execution_count": null,
   "metadata": {},
   "outputs": [],
   "source": [
    "while not is_valid(g1):\n",
    "    g1 = markov_move(g1)"
   ]
  },
  {
   "cell_type": "code",
   "execution_count": null,
   "metadata": {},
   "outputs": [],
   "source": [
    "g2 = random.choice(get_children(g1))\n",
    "while get_dist(g1, g2) < 1:\n",
    "    g2 = random.choice(get_children(g1))\n",
    "\n",
    "g1_children = get_children(g1)\n",
    "g2_children = get_children(g2)\n",
    "\n",
    "l1, l2 = len(g1_children), len(g2_children)\n",
    "\n",
    "dists = np.zeros((l1, l2))\n",
    "for i in range(l1):\n",
    "    for j in range(l2):\n",
    "        dists[i][j] = get_dist(g1_children[i], g2_children[j])\n",
    "\n",
    "status, dist, joint_prob = solve(g1_children, g2_children, dists)\n",
    "print(dist)"
   ]
  },
  {
   "cell_type": "code",
   "execution_count": null,
   "metadata": {},
   "outputs": [],
   "source": []
  },
  {
   "cell_type": "code",
   "execution_count": null,
   "metadata": {},
   "outputs": [],
   "source": []
  }
 ],
 "metadata": {
  "kernelspec": {
   "display_name": "Python 3",
   "language": "python",
   "name": "python3"
  },
  "language_info": {
   "codemirror_mode": {
    "name": "ipython",
    "version": 3
   },
   "file_extension": ".py",
   "mimetype": "text/x-python",
   "name": "python",
   "nbconvert_exporter": "python",
   "pygments_lexer": "ipython3",
   "version": "3.7.3"
  }
 },
 "nbformat": 4,
 "nbformat_minor": 4
}
